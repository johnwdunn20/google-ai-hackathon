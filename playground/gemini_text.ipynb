{
 "cells": [
  {
   "cell_type": "code",
   "execution_count": 12,
   "metadata": {},
   "outputs": [],
   "source": [
    "from dotenv import load_dotenv\n",
    "import os\n",
    "import pathlib\n",
    "import textwrap\n",
    "import google.generativeai as genai\n",
    "from IPython.display import display\n",
    "from IPython.display import Markdown"
   ]
  },
  {
   "cell_type": "code",
   "execution_count": 3,
   "metadata": {},
   "outputs": [],
   "source": [
    "# Load the API key and connect to the model\n",
    "load_dotenv()\n",
    "\n",
    "API_KEY = os.getenv(\"GOOGLE_AI_STUDIO_API_KEY\")\n",
    "if not API_KEY:\n",
    "    raise ValueError(\"No API key found\")\n",
    "genai.configure(api_key=API_KEY)\n"
   ]
  },
  {
   "cell_type": "code",
   "execution_count": 4,
   "metadata": {},
   "outputs": [
    {
     "name": "stdout",
     "output_type": "stream",
     "text": [
      "models/gemini-1.0-pro: The best model for scaling across a wide range of tasks\n",
      "models/gemini-1.0-pro-001: The best model for scaling across a wide range of tasks. This is a stable model that supports tuning.\n",
      "models/gemini-1.0-pro-latest: The best model for scaling across a wide range of tasks. This is the latest model.\n",
      "models/gemini-1.0-pro-vision-latest: The best image understanding model to handle a broad range of applications\n",
      "models/gemini-pro: The best model for scaling across a wide range of tasks\n",
      "models/gemini-pro-vision: The best image understanding model to handle a broad range of applications\n"
     ]
    }
   ],
   "source": [
    "# list out the available models:\n",
    "for model in genai.list_models():\n",
    "    if 'generateContent' in model.supported_generation_methods:\n",
    "        print(f'{model.name}: {model.description}')"
   ]
  },
  {
   "cell_type": "code",
   "execution_count": 5,
   "metadata": {},
   "outputs": [],
   "source": [
    "# use gemini-pro for text only prompts\n",
    "model = genai.GenerativeModel('gemini-pro')\n",
    "\n",
    "# prompt the model\n",
    "response = model.generate_content('Give me some good, general advice.')"
   ]
  },
  {
   "cell_type": "code",
   "execution_count": 13,
   "metadata": {},
   "outputs": [
    {
     "name": "stdout",
     "output_type": "stream",
     "text": [
      "<class 'google.generativeai.types.generation_types.GenerateContentResponse'>\n"
     ]
    },
    {
     "ename": "AttributeError",
     "evalue": "type object 'Markdown' has no attribute 'to_markdown'",
     "output_type": "error",
     "traceback": [
      "\u001b[0;31m---------------------------------------------------------------------------\u001b[0m",
      "\u001b[0;31mAttributeError\u001b[0m                            Traceback (most recent call last)",
      "Cell \u001b[0;32mIn[13], line 2\u001b[0m\n\u001b[1;32m      1\u001b[0m \u001b[38;5;28mprint\u001b[39m(\u001b[38;5;28mtype\u001b[39m(response))\n\u001b[0;32m----> 2\u001b[0m \u001b[43mMarkdown\u001b[49m\u001b[38;5;241;43m.\u001b[39;49m\u001b[43mto_markdown\u001b[49m(response\u001b[38;5;241m.\u001b[39mtext)\n",
      "\u001b[0;31mAttributeError\u001b[0m: type object 'Markdown' has no attribute 'to_markdown'"
     ]
    }
   ],
   "source": [
    "print(type(response))\n"
   ]
  }
 ],
 "metadata": {
  "kernelspec": {
   "display_name": "venv",
   "language": "python",
   "name": "python3"
  },
  "language_info": {
   "codemirror_mode": {
    "name": "ipython",
    "version": 3
   },
   "file_extension": ".py",
   "mimetype": "text/x-python",
   "name": "python",
   "nbconvert_exporter": "python",
   "pygments_lexer": "ipython3",
   "version": "3.11.5"
  }
 },
 "nbformat": 4,
 "nbformat_minor": 2
}
