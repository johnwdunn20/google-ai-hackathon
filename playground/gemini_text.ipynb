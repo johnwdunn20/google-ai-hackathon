{
 "cells": [
  {
   "cell_type": "code",
   "execution_count": 12,
   "metadata": {},
   "outputs": [],
   "source": [
    "from dotenv import load_dotenv\n",
    "import os\n",
    "import pathlib\n",
    "import textwrap\n",
    "import google.generativeai as genai\n",
    "from IPython.display import display\n",
    "from IPython.display import Markdown"
   ]
  },
  {
   "cell_type": "code",
   "execution_count": 3,
   "metadata": {},
   "outputs": [],
   "source": [
    "# Load the API key and connect to the model\n",
    "load_dotenv()\n",
    "\n",
    "API_KEY = os.getenv(\"GOOGLE_AI_STUDIO_API_KEY\")\n",
    "if not API_KEY:\n",
    "    raise ValueError(\"No API key found\")\n",
    "genai.configure(api_key=API_KEY)\n"
   ]
  },
  {
   "cell_type": "code",
   "execution_count": 4,
   "metadata": {},
   "outputs": [
    {
     "name": "stdout",
     "output_type": "stream",
     "text": [
      "models/gemini-1.0-pro: The best model for scaling across a wide range of tasks\n",
      "models/gemini-1.0-pro-001: The best model for scaling across a wide range of tasks. This is a stable model that supports tuning.\n",
      "models/gemini-1.0-pro-latest: The best model for scaling across a wide range of tasks. This is the latest model.\n",
      "models/gemini-1.0-pro-vision-latest: The best image understanding model to handle a broad range of applications\n",
      "models/gemini-pro: The best model for scaling across a wide range of tasks\n",
      "models/gemini-pro-vision: The best image understanding model to handle a broad range of applications\n"
     ]
    }
   ],
   "source": [
    "# list out the available models:\n",
    "for model in genai.list_models():\n",
    "    if 'generateContent' in model.supported_generation_methods:\n",
    "        print(f'{model.name}: {model.description}')"
   ]
  },
  {
   "cell_type": "code",
   "execution_count": 5,
   "metadata": {},
   "outputs": [],
   "source": [
    "# use gemini-pro for text only prompts\n",
    "model = genai.GenerativeModel('gemini-pro')\n",
    "\n",
    "# prompt the model\n",
    "response = model.generate_content('Give me some good, general advice.')"
   ]
  },
  {
   "cell_type": "code",
   "execution_count": 19,
   "metadata": {},
   "outputs": [
    {
     "data": {
      "text/markdown": [
       "**Personal Growth and Fulfillment**\n",
       "\n",
       "* **Embark on a journey of self-discovery:** Explore your values, goals, and passions. Seek experiences that challenge and shape you.\n",
       "* **Embrace lifelong learning:** Continuously expand your knowledge and skills. Be open to new perspectives and ideas.\n",
       "* **Practice self-care:** Prioritize your physical, mental, and emotional well-being. Engage in activities that nourish and revitalize you.\n",
       "* **Build meaningful relationships:** Surround yourself with positive and supportive people who uplift and inspire you.\n",
       "\n",
       "**Professional Success**\n",
       "\n",
       "* **Set clear goals:** Define your aspirations and break them down into manageable steps.\n",
       "* **Develop a strong work ethic:** Dedicate yourself to your tasks and strive for excellence in everything you do.\n",
       "* **Seek feedback and mentorship:** Regularly solicit constructive criticism and guidance from colleagues and mentors.\n",
       "* **Embrace change and innovation:** Be adaptable to evolving industry trends and technologies.\n",
       "\n",
       "**Financial Responsibility**\n",
       "\n",
       "* **Live within your means:** Track your expenses and create a budget to ensure you don't overspend.\n",
       "* **Invest wisely:** Explore investment options that align with your financial goals and risk tolerance.\n",
       "* **Plan for the future:** Start saving early for retirement and unexpected expenses.\n",
       "\n",
       "**Health and Wellness**\n",
       "\n",
       "* **Prioritize a healthy diet:** Nourish your body with a balanced and nutritious diet.\n",
       "* **Engage in regular exercise:** Make physical activity a fundamental part of your routine.\n",
       "* **Get adequate sleep:** Aim for 7-9 hours of quality sleep each night.\n",
       "* **Manage stress:** Find healthy coping mechanisms to reduce stress and promote well-being.\n",
       "\n",
       "**General Life Advice**\n",
       "\n",
       "* **Be grateful:** Cultivate an attitude of gratitude and appreciate the good things in your life.\n",
       "* **Live in the present moment:** Focus on the here and now instead of dwelling on the past or worrying about the future.\n",
       "* **Be kind to yourself and others:** Treat others and yourself with compassion and respect.\n",
       "* **Never give up on your dreams:** Persevere through challenges and stay committed to your aspirations."
      ],
      "text/plain": [
       "<IPython.core.display.Markdown object>"
      ]
     },
     "metadata": {},
     "output_type": "display_data"
    }
   ],
   "source": [
    "display(Markdown(response.text))"
   ]
  },
  {
   "cell_type": "code",
   "execution_count": 23,
   "metadata": {},
   "outputs": [
    {
     "name": "stdout",
     "output_type": "stream",
     "text": [
      "*** Response Attributes ***\n",
      "candidates: [index: 0\n",
      "content {\n",
      "  parts {\n",
      "    text: \"**Personal Growth and Fulfillment**\\n\\n* **Embark on a journey of self-discovery:** Explore your values, goals, and passions. Seek experiences that challenge and shape you.\\n* **Embrace lifelong learning:** Continuously expand your knowledge and skills. Be open to new perspectives and ideas.\\n* **Practice self-care:** Prioritize your physical, mental, and emotional well-being. Engage in activities that nourish and revitalize you.\\n* **Build meaningful relationships:** Surround yourself with positive and supportive people who uplift and inspire you.\\n\\n**Professional Success**\\n\\n* **Set clear goals:** Define your aspirations and break them down into manageable steps.\\n* **Develop a strong work ethic:** Dedicate yourself to your tasks and strive for excellence in everything you do.\\n* **Seek feedback and mentorship:** Regularly solicit constructive criticism and guidance from colleagues and mentors.\\n* **Embrace change and innovation:** Be adaptable to evolving industry trends and technologies.\\n\\n**Financial Responsibility**\\n\\n* **Live within your means:** Track your expenses and create a budget to ensure you don\\'t overspend.\\n* **Invest wisely:** Explore investment options that align with your financial goals and risk tolerance.\\n* **Plan for the future:** Start saving early for retirement and unexpected expenses.\\n\\n**Health and Wellness**\\n\\n* **Prioritize a healthy diet:** Nourish your body with a balanced and nutritious diet.\\n* **Engage in regular exercise:** Make physical activity a fundamental part of your routine.\\n* **Get adequate sleep:** Aim for 7-9 hours of quality sleep each night.\\n* **Manage stress:** Find healthy coping mechanisms to reduce stress and promote well-being.\\n\\n**General Life Advice**\\n\\n* **Be grateful:** Cultivate an attitude of gratitude and appreciate the good things in your life.\\n* **Live in the present moment:** Focus on the here and now instead of dwelling on the past or worrying about the future.\\n* **Be kind to yourself and others:** Treat others and yourself with compassion and respect.\\n* **Never give up on your dreams:** Persevere through challenges and stay committed to your aspirations.\"\n",
      "  }\n",
      "  role: \"model\"\n",
      "}\n",
      "finish_reason: STOP\n",
      "safety_ratings {\n",
      "  category: HARM_CATEGORY_SEXUALLY_EXPLICIT\n",
      "  probability: NEGLIGIBLE\n",
      "}\n",
      "safety_ratings {\n",
      "  category: HARM_CATEGORY_HATE_SPEECH\n",
      "  probability: NEGLIGIBLE\n",
      "}\n",
      "safety_ratings {\n",
      "  category: HARM_CATEGORY_HARASSMENT\n",
      "  probability: NEGLIGIBLE\n",
      "}\n",
      "safety_ratings {\n",
      "  category: HARM_CATEGORY_DANGEROUS_CONTENT\n",
      "  probability: NEGLIGIBLE\n",
      "}\n",
      "] \n",
      "\n",
      "from_iterator: <bound method GenerateContentResponse.from_iterator of <class 'google.generativeai.types.generation_types.GenerateContentResponse'>> \n",
      "\n",
      "from_response: <bound method GenerateContentResponse.from_response of <class 'google.generativeai.types.generation_types.GenerateContentResponse'>> \n",
      "\n",
      "parts: [text: \"**Personal Growth and Fulfillment**\\n\\n* **Embark on a journey of self-discovery:** Explore your values, goals, and passions. Seek experiences that challenge and shape you.\\n* **Embrace lifelong learning:** Continuously expand your knowledge and skills. Be open to new perspectives and ideas.\\n* **Practice self-care:** Prioritize your physical, mental, and emotional well-being. Engage in activities that nourish and revitalize you.\\n* **Build meaningful relationships:** Surround yourself with positive and supportive people who uplift and inspire you.\\n\\n**Professional Success**\\n\\n* **Set clear goals:** Define your aspirations and break them down into manageable steps.\\n* **Develop a strong work ethic:** Dedicate yourself to your tasks and strive for excellence in everything you do.\\n* **Seek feedback and mentorship:** Regularly solicit constructive criticism and guidance from colleagues and mentors.\\n* **Embrace change and innovation:** Be adaptable to evolving industry trends and technologies.\\n\\n**Financial Responsibility**\\n\\n* **Live within your means:** Track your expenses and create a budget to ensure you don\\'t overspend.\\n* **Invest wisely:** Explore investment options that align with your financial goals and risk tolerance.\\n* **Plan for the future:** Start saving early for retirement and unexpected expenses.\\n\\n**Health and Wellness**\\n\\n* **Prioritize a healthy diet:** Nourish your body with a balanced and nutritious diet.\\n* **Engage in regular exercise:** Make physical activity a fundamental part of your routine.\\n* **Get adequate sleep:** Aim for 7-9 hours of quality sleep each night.\\n* **Manage stress:** Find healthy coping mechanisms to reduce stress and promote well-being.\\n\\n**General Life Advice**\\n\\n* **Be grateful:** Cultivate an attitude of gratitude and appreciate the good things in your life.\\n* **Live in the present moment:** Focus on the here and now instead of dwelling on the past or worrying about the future.\\n* **Be kind to yourself and others:** Treat others and yourself with compassion and respect.\\n* **Never give up on your dreams:** Persevere through challenges and stay committed to your aspirations.\"\n",
      "] \n",
      "\n",
      "prompt_feedback: safety_ratings {\n",
      "  category: HARM_CATEGORY_SEXUALLY_EXPLICIT\n",
      "  probability: NEGLIGIBLE\n",
      "}\n",
      "safety_ratings {\n",
      "  category: HARM_CATEGORY_HATE_SPEECH\n",
      "  probability: NEGLIGIBLE\n",
      "}\n",
      "safety_ratings {\n",
      "  category: HARM_CATEGORY_HARASSMENT\n",
      "  probability: NEGLIGIBLE\n",
      "}\n",
      "safety_ratings {\n",
      "  category: HARM_CATEGORY_DANGEROUS_CONTENT\n",
      "  probability: NEGLIGIBLE\n",
      "}\n",
      " \n",
      "\n",
      "resolve: <bound method GenerateContentResponse.resolve of response:\n",
      "GenerateContentResponse(\n",
      "    done=True,\n",
      "    iterator=None,\n",
      "    result=glm.GenerateContentResponse({'candidates': [{'content': {'parts': [{'text': \"**Personal Growth and Fulfillment**\\n\\n* **Embark on a journey of self-discovery:** Explore your values, goals, and passions. Seek experiences that challenge and shape you.\\n* **Embrace lifelong learning:** Continuously expand your knowledge and skills. Be open to new perspectives and ideas.\\n* **Practice self-care:** Prioritize your physical, mental, and emotional well-being. Engage in activities that nourish and revitalize you.\\n* **Build meaningful relationships:** Surround yourself with positive and supportive people who uplift and inspire you.\\n\\n**Professional Success**\\n\\n* **Set clear goals:** Define your aspirations and break them down into manageable steps.\\n* **Develop a strong work ethic:** Dedicate yourself to your tasks and strive for excellence in everything you do.\\n* **Seek feedback and mentorship:** Regularly solicit constructive criticism and guidance from colleagues and mentors.\\n* **Embrace change and innovation:** Be adaptable to evolving industry trends and technologies.\\n\\n**Financial Responsibility**\\n\\n* **Live within your means:** Track your expenses and create a budget to ensure you don't overspend.\\n* **Invest wisely:** Explore investment options that align with your financial goals and risk tolerance.\\n* **Plan for the future:** Start saving early for retirement and unexpected expenses.\\n\\n**Health and Wellness**\\n\\n* **Prioritize a healthy diet:** Nourish your body with a balanced and nutritious diet.\\n* **Engage in regular exercise:** Make physical activity a fundamental part of your routine.\\n* **Get adequate sleep:** Aim for 7-9 hours of quality sleep each night.\\n* **Manage stress:** Find healthy coping mechanisms to reduce stress and promote well-being.\\n\\n**General Life Advice**\\n\\n* **Be grateful:** Cultivate an attitude of gratitude and appreciate the good things in your life.\\n* **Live in the present moment:** Focus on the here and now instead of dwelling on the past or worrying about the future.\\n* **Be kind to yourself and others:** Treat others and yourself with compassion and respect.\\n* **Never give up on your dreams:** Persevere through challenges and stay committed to your aspirations.\"}], 'role': 'model'}, 'finish_reason': 1, 'index': 0, 'safety_ratings': [{'category': 9, 'probability': 1, 'blocked': False}, {'category': 8, 'probability': 1, 'blocked': False}, {'category': 7, 'probability': 1, 'blocked': False}, {'category': 10, 'probability': 1, 'blocked': False}], 'token_count': 0, 'grounding_attributions': []}], 'prompt_feedback': {'safety_ratings': [{'category': 9, 'probability': 1, 'blocked': False}, {'category': 8, 'probability': 1, 'blocked': False}, {'category': 7, 'probability': 1, 'blocked': False}, {'category': 10, 'probability': 1, 'blocked': False}], 'block_reason': 0}}),\n",
      ")> \n",
      "\n",
      "text: **Personal Growth and Fulfillment**\n",
      "\n",
      "* **Embark on a journey of self-discovery:** Explore your values, goals, and passions. Seek experiences that challenge and shape you.\n",
      "* **Embrace lifelong learning:** Continuously expand your knowledge and skills. Be open to new perspectives and ideas.\n",
      "* **Practice self-care:** Prioritize your physical, mental, and emotional well-being. Engage in activities that nourish and revitalize you.\n",
      "* **Build meaningful relationships:** Surround yourself with positive and supportive people who uplift and inspire you.\n",
      "\n",
      "**Professional Success**\n",
      "\n",
      "* **Set clear goals:** Define your aspirations and break them down into manageable steps.\n",
      "* **Develop a strong work ethic:** Dedicate yourself to your tasks and strive for excellence in everything you do.\n",
      "* **Seek feedback and mentorship:** Regularly solicit constructive criticism and guidance from colleagues and mentors.\n",
      "* **Embrace change and innovation:** Be adaptable to evolving industry trends and technologies.\n",
      "\n",
      "**Financial Responsibility**\n",
      "\n",
      "* **Live within your means:** Track your expenses and create a budget to ensure you don't overspend.\n",
      "* **Invest wisely:** Explore investment options that align with your financial goals and risk tolerance.\n",
      "* **Plan for the future:** Start saving early for retirement and unexpected expenses.\n",
      "\n",
      "**Health and Wellness**\n",
      "\n",
      "* **Prioritize a healthy diet:** Nourish your body with a balanced and nutritious diet.\n",
      "* **Engage in regular exercise:** Make physical activity a fundamental part of your routine.\n",
      "* **Get adequate sleep:** Aim for 7-9 hours of quality sleep each night.\n",
      "* **Manage stress:** Find healthy coping mechanisms to reduce stress and promote well-being.\n",
      "\n",
      "**General Life Advice**\n",
      "\n",
      "* **Be grateful:** Cultivate an attitude of gratitude and appreciate the good things in your life.\n",
      "* **Live in the present moment:** Focus on the here and now instead of dwelling on the past or worrying about the future.\n",
      "* **Be kind to yourself and others:** Treat others and yourself with compassion and respect.\n",
      "* **Never give up on your dreams:** Persevere through challenges and stay committed to your aspirations. \n",
      "\n"
     ]
    }
   ],
   "source": [
    "print('*** Response Attributes ***')\n",
    "for attr in dir(response):\n",
    "    if not attr.startswith('_'):\n",
    "        print(f'{attr}: {getattr(response, attr)} \\n')"
   ]
  },
  {
   "cell_type": "code",
   "execution_count": null,
   "metadata": {},
   "outputs": [],
   "source": [
    "print('*** Response Metadata ***')\n",
    "for attr in dir(response):\n",
    "    if attr.startswith('_'):\n",
    "        print(f'{attr}: {getattr(response, attr)} \\n')\n",
    "        # print(exec(f'{response}.{attr}'))"
   ]
  }
 ],
 "metadata": {
  "kernelspec": {
   "display_name": "venv",
   "language": "python",
   "name": "python3"
  },
  "language_info": {
   "codemirror_mode": {
    "name": "ipython",
    "version": 3
   },
   "file_extension": ".py",
   "mimetype": "text/x-python",
   "name": "python",
   "nbconvert_exporter": "python",
   "pygments_lexer": "ipython3",
   "version": "3.11.5"
  }
 },
 "nbformat": 4,
 "nbformat_minor": 2
}
